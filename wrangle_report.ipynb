{
 "cells": [
  {
   "cell_type": "markdown",
   "metadata": {},
   "source": [
    "##  <center> Wrangle Report"
   ]
  },
  {
   "cell_type": "markdown",
   "metadata": {},
   "source": [
    "### Introduction"
   ]
  },
  {
   "cell_type": "markdown",
   "metadata": {},
   "source": [
    "This project demonstrates the data wrangling process for the tweet archive of Twitter user @dog_rates, also known as WeRateDogs. WeRateDogs is a Twitter account that rates people's dogs with a humorous comment about the dog. These ratings almost always have a denominator of 10. In this report I will provide a brief description of the data wrangling techniques that were used to gather, assess and clean the dog twitter archive."
   ]
  },
  {
   "cell_type": "markdown",
   "metadata": {},
   "source": [
    "### Gather data"
   ]
  },
  {
   "cell_type": "markdown",
   "metadata": {},
   "source": [
    "The following files were gathered for the analysis:"
   ]
  },
  {
   "cell_type": "markdown",
   "metadata": {},
   "source": [
    "**The WeRateDogs Twitter archive** - This file (archive.csv) was downloaded manually and consists of basic tweet data for\n",
    "2300+ tweets from WeRateDogs. "
   ]
  },
  {
   "cell_type": "markdown",
   "metadata": {},
   "source": [
    "**The tweet image predictions** - i.e., what breed of dog (or other object, animal, etc.) is present in each tweet according to a neural network. This file (image_predictions.tsv) was downloaded programmatically from Udacity."
   ]
  },
  {
   "cell_type": "markdown",
   "metadata": {},
   "source": [
    "**Each tweet's retweet count and favorite (\"like\") count** -This file (tweet_json) contains JSON data for each tweet\n",
    "indicating the retweet and like counts."
   ]
  },
  {
   "cell_type": "markdown",
   "metadata": {},
   "source": [
    "### Assess data"
   ]
  },
  {
   "cell_type": "markdown",
   "metadata": {},
   "source": [
    "The three files obtained in the gathering phase were loaded into individual Pandas data frames for assessment.\n",
    "Each of the data frames were evaluated visually and programmatically. The following quality and tidiness issues were\n",
    "observed during the assessment."
   ]
  },
  {
   "cell_type": "markdown",
   "metadata": {},
   "source": [
    "Quality issues:"
   ]
  },
  {
   "cell_type": "markdown",
   "metadata": {},
   "source": [
    "**archive table**\n",
    "- Some name column entries are not names\n",
    "- Some denominators are incorrect\n",
    "- Remove unused dog stage columns\n",
    "- Remove retweets\n",
    "\n",
    "**prediction table**\n",
    "- Dropped entries that have p1_dog, p2_dog, & p3_dog values set to false. These are not dogs of any kind.\n",
    "- Dropped duplicate jpg_url entries\n",
    "- Dropped unused img_num column\n",
    "\n",
    "**tweet_json table**\n",
    "- Tweet ID 886267009285017600 does not have a valid URL\n",
    "- Remove retweets\n",
    "\n",
    "Tidiness issues:\n",
    "- Merged twitter archive, image predictions and tweet_json tables\n",
    "- Convert data type of tweet_id in tweet_json table from object to int64"
   ]
  },
  {
   "cell_type": "markdown",
   "metadata": {},
   "source": [
    "### Clean data"
   ]
  },
  {
   "cell_type": "markdown",
   "metadata": {},
   "source": [
    "The quality and tidiness issues were cleaned using programmatic techniques such as:\n",
    "    \n",
    "- Dropping unnecessary columns from the tables\n",
    "- Removing rows that consisted of retweets\n",
    "- Removal of rows with duplicate information\n",
    "- Deleted rows that did not have any dog predictions at all\n",
    "- Combining all three data frames into a single data frame"
   ]
  }
 ],
 "metadata": {
  "kernelspec": {
   "display_name": "Python 3",
   "language": "python",
   "name": "python3"
  },
  "language_info": {
   "codemirror_mode": {
    "name": "ipython",
    "version": 3
   },
   "file_extension": ".py",
   "mimetype": "text/x-python",
   "name": "python",
   "nbconvert_exporter": "python",
   "pygments_lexer": "ipython3",
   "version": "3.6.3"
  }
 },
 "nbformat": 4,
 "nbformat_minor": 2
}
